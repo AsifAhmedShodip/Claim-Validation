{
  "nbformat": 4,
  "nbformat_minor": 0,
  "metadata": {
    "colab": {
      "name": "Claim Validation using GloVe and ELMo.ipynb",
      "version": "0.3.2",
      "provenance": [],
      "collapsed_sections": []
    },
    "kernelspec": {
      "name": "python3",
      "display_name": "Python 3"
    },
    "accelerator": "GPU"
  },
  "cells": [
    {
      "metadata": {
        "id": "H879uNgTWGqo",
        "colab_type": "text"
      },
      "cell_type": "markdown",
      "source": [
        "#Claim Validation using GloVe and ELMo"
      ]
    },
    {
      "metadata": {
        "id": "Gd-zpBtFduLS",
        "colab_type": "code",
        "colab": {}
      },
      "cell_type": "code",
      "source": [
        "mkdir data"
      ],
      "execution_count": 0,
      "outputs": []
    },
    {
      "metadata": {
        "id": "EdDPzFlKhHar",
        "colab_type": "code",
        "outputId": "2a893664-3039-4d2a-e041-ef51e99ec5bd",
        "colab": {
          "base_uri": "https://localhost:8080/",
          "height": 36
        }
      },
      "cell_type": "code",
      "source": [
        "cd data"
      ],
      "execution_count": 0,
      "outputs": [
        {
          "output_type": "stream",
          "text": [
            "/content/data\n"
          ],
          "name": "stdout"
        }
      ]
    },
    {
      "metadata": {
        "id": "ydltNVrhgiq7",
        "colab_type": "code",
        "colab": {}
      },
      "cell_type": "code",
      "source": [
        "!pip install allennlp"
      ],
      "execution_count": 0,
      "outputs": []
    },
    {
      "metadata": {
        "id": "Z9E-iWhxWFcw",
        "colab_type": "code",
        "colab": {}
      },
      "cell_type": "code",
      "source": [
        "!wget https://s3-eu-west-1.amazonaws.com/fever.public/wiki-pages.zip"
      ],
      "execution_count": 0,
      "outputs": []
    },
    {
      "metadata": {
        "id": "zU4Z5KhCgY4g",
        "colab_type": "code",
        "colab": {}
      },
      "cell_type": "code",
      "source": [
        "!wget https://www.dropbox.com/s/69cma05v3w4oc8m/liar_train_raw.tsv && wget https://www.dropbox.com/s/lytkzczsgxbzblc/liar_valid_raw.tsv && wget https://www.dropbox.com/s/tsxon4egz7zrw5g/liar_test_raw.tsv"
      ],
      "execution_count": 0,
      "outputs": []
    },
    {
      "metadata": {
        "id": "7p-UKnYxgkZM",
        "colab_type": "code",
        "colab": {}
      },
      "cell_type": "code",
      "source": [
        "!unzip wiki-pages.zip"
      ],
      "execution_count": 0,
      "outputs": []
    },
    {
      "metadata": {
        "id": "E5dE9sUrgJpv",
        "colab_type": "code",
        "colab": {}
      },
      "cell_type": "code",
      "source": [
        "!wget https://s3-eu-west-1.amazonaws.com/fever.public/train.jsonl && wget https://s3-eu-west-1.amazonaws.com/fever.public/shared_task_dev.jsonl && wget https://s3-eu-west-1.amazonaws.com/fever.public/shared_task_test.jsonl"
      ],
      "execution_count": 0,
      "outputs": []
    },
    {
      "metadata": {
        "id": "jGqLcURl4lRs",
        "colab_type": "code",
        "colab": {}
      },
      "cell_type": "code",
      "source": [
        "#!wget https://www.dropbox.com/s/mppyapxxsot4iwi/notun_test.json && wget https://www.dropbox.com/s/jgd2h66q30trcb1/notun_test%281%29.json && wget https://www.dropbox.com/s/budq6n9bf0evvjp/notun_test%282%29.json"
      ],
      "execution_count": 0,
      "outputs": []
    },
    {
      "metadata": {
        "id": "FsoAdYGW5WDr",
        "colab_type": "code",
        "colab": {}
      },
      "cell_type": "code",
      "source": [
        "#!wget https://www.dropbox.com/s/520hlodlrq1bxoi/abar_notun_test.json && wget https://www.dropbox.com/s/6vvawj63av96dss/abar_notun_test%281%29.json && wget https://www.dropbox.com/s/zy0lav043dxnj06/abar_notun_test%282%29.json"
      ],
      "execution_count": 0,
      "outputs": []
    },
    {
      "metadata": {
        "id": "YtS_PDQHLXbx",
        "colab_type": "code",
        "colab": {}
      },
      "cell_type": "code",
      "source": [
        "!wget https://www.dropbox.com/s/o0jyunks2ogq1fw/notun_test%283%29.json && wget https://www.dropbox.com/s/ok06k565hp66ww9/notun_test1.json && wget https://www.dropbox.com/s/xqwnyn7lz686y7y/notun_test2.json"
      ],
      "execution_count": 0,
      "outputs": []
    },
    {
      "metadata": {
        "id": "AjrPph94MiTZ",
        "colab_type": "code",
        "colab": {}
      },
      "cell_type": "code",
      "source": [
        "!wget https://www.dropbox.com/s/vxsyq9oaymheusg/notun_test_tfidf.json && wget https://www.dropbox.com/s/l2uxmkbtlq52b04/notun_test_tfidf1.json && wget https://www.dropbox.com/s/5psgs084s9bcyq5/notun_test_tfidf2.json"
      ],
      "execution_count": 0,
      "outputs": []
    },
    {
      "metadata": {
        "id": "61Fg47L6Iiu8",
        "colab_type": "code",
        "colab": {}
      },
      "cell_type": "code",
      "source": [
        "!wget https://www.dropbox.com/s/2i9au4qcmjcdmn5/liar_final_train.json && wget https://www.dropbox.com/s/z1ans2eumj5kj1s/liar_final_valid.json && wget https://www.dropbox.com/s/2pb0tyhq9udpilz/liar_final_test.json"
      ],
      "execution_count": 0,
      "outputs": []
    },
    {
      "metadata": {
        "id": "vwdZKNQ9HRu1",
        "colab_type": "code",
        "colab": {}
      },
      "cell_type": "code",
      "source": [
        "!wget http://nlp.stanford.edu/data/glove.6B.zip && wget https://nlp.stanford.edu/projects/snli/snli_1.0.zip"
      ],
      "execution_count": 0,
      "outputs": []
    },
    {
      "metadata": {
        "id": "nNLnqmGoJCOs",
        "colab_type": "code",
        "colab": {}
      },
      "cell_type": "code",
      "source": [
        "!unzip glove.6B.zip && unzip snli_1.0.zip"
      ],
      "execution_count": 0,
      "outputs": []
    },
    {
      "metadata": {
        "id": "hXSDEn2_jcPs",
        "colab_type": "code",
        "colab": {}
      },
      "cell_type": "code",
      "source": [
        "!pip install -U gensim"
      ],
      "execution_count": 0,
      "outputs": []
    },
    {
      "metadata": {
        "id": "lElraiDqFneB",
        "colab_type": "code",
        "colab": {}
      },
      "cell_type": "code",
      "source": [
        "ls"
      ],
      "execution_count": 0,
      "outputs": []
    },
    {
      "metadata": {
        "id": "CRnjSppFEPCa",
        "colab_type": "code",
        "colab": {}
      },
      "cell_type": "code",
      "source": [
        "!wget https://s3.amazonaws.com/dl4j-distribution/GoogleNews-vectors-negative300.bin.gz"
      ],
      "execution_count": 0,
      "outputs": []
    },
    {
      "metadata": {
        "id": "UeawtKYfEUHd",
        "colab_type": "code",
        "colab": {}
      },
      "cell_type": "code",
      "source": [
        "!gunzip -f GoogleNews-vectors-negative300.bin.gz"
      ],
      "execution_count": 0,
      "outputs": []
    },
    {
      "metadata": {
        "id": "OCcagJv1aRbj",
        "colab_type": "code",
        "colab": {}
      },
      "cell_type": "code",
      "source": [
        "!wget https://www.dropbox.com/s/05on2t6edciczx3/valid.tsv && wget https://www.dropbox.com/s/sp81ovwrovozz53/train.tsv && wget https://www.dropbox.com/s/sggvga937n8a2xx/test.tsv"
      ],
      "execution_count": 0,
      "outputs": []
    },
    {
      "metadata": {
        "id": "I68LangAOOBq",
        "colab_type": "code",
        "colab": {}
      },
      "cell_type": "code",
      "source": [
        "!wget https://www.dropbox.com/s/i10hwbu5ipieyi1/custom_attention.py && wget https://www.dropbox.com/s/liqcu08falbk08d/tdd.py"
      ],
      "execution_count": 0,
      "outputs": []
    },
    {
      "metadata": {
        "id": "0pQENWIxIKCW",
        "colab_type": "code",
        "colab": {}
      },
      "cell_type": "code",
      "source": [
        "!wget https://www.dropbox.com/s/7gimyx4jye1yy9p/train_new.json && wget https://www.dropbox.com/s/0flyx49xvrx74r2/val_new.json && wget https://www.dropbox.com/s/yw5lt0sc67idu45/test_new.json"
      ],
      "execution_count": 0,
      "outputs": []
    },
    {
      "metadata": {
        "id": "3eJDJD8GhzXM",
        "colab_type": "code",
        "colab": {}
      },
      "cell_type": "code",
      "source": [
        "!ln -sf /opt/bin/nvidia-smi /usr/bin/nvidia-smi\n",
        "!pip install gputil\n",
        "!pip install psutil\n",
        "!pip install humanize\n",
        "import psutil\n",
        "import humanize\n",
        "import os\n",
        "import GPUtil as GPU\n",
        "GPUs = GPU.getGPUs()\n",
        "# XXX: only one GPU on Colab and isn’t guaranteed\n",
        "gpu = GPUs[0]\n",
        "def printm():\n",
        " process = psutil.Process(os.getpid())\n",
        " print(\"Gen RAM Free: \" + humanize.naturalsize( psutil.virtual_memory().available ), \" | Proc size: \" + humanize.naturalsize( process.memory_info().rss))\n",
        " print(\"GPU RAM Free: {0:.0f}MB | Used: {1:.0f}MB | Util {2:3.0f}% | Total {3:.0f}MB\".format(gpu.memoryFree, gpu.memoryUsed, gpu.memoryUtil*100, gpu.memoryTotal))\n"
      ],
      "execution_count": 0,
      "outputs": []
    },
    {
      "metadata": {
        "id": "EhBYHOyOh3Ft",
        "colab_type": "code",
        "colab": {}
      },
      "cell_type": "code",
      "source": [
        "printm()"
      ],
      "execution_count": 0,
      "outputs": []
    },
    {
      "metadata": {
        "id": "se-gGJAWG5HJ",
        "colab_type": "code",
        "outputId": "b1317264-d89e-40f6-fe28-f933fc8c0cda",
        "colab": {
          "base_uri": "https://localhost:8080/",
          "height": 36
        }
      },
      "cell_type": "code",
      "source": [
        "# Importing necessary libraries\n",
        "import numpy as np\n",
        "import os\n",
        "from os.path import join, exists, split\n",
        "import glob\n",
        "import cv2\n",
        "import json\n",
        "import datetime\n",
        "import re\n",
        "import string\n",
        "import random\n",
        "import copy\n",
        "import nltk\n",
        "import itertools\n",
        "from collections import Counter\n",
        "import matplotlib.pyplot as plt\n",
        "import pandas as pd\n",
        "import pickle\n",
        "import tensorflow as tf\n",
        "from gensim.models import word2vec\n",
        "from gensim.models import Word2Vec\n",
        "from gensim.utils import simple_preprocess\n",
        "from gensim.models.keyedvectors import KeyedVectors\n",
        "from keras.utils import to_categorical\n",
        "from keras.preprocessing.text import Tokenizer\n",
        "from keras.preprocessing.sequence import pad_sequences\n",
        "from keras.layers import Embedding, Lambda, Input, Bidirectional,  Add, CuDNNGRU, Concatenate, Dropout, GRU, LSTM, Dense, Activation, ZeroPadding2D, BatchNormalization, Flatten, Conv2D,Conv1D, AveragePooling2D, AveragePooling1D,MaxPooling2D, MaxPooling1D, GlobalMaxPooling2D\n",
        "from keras.models import Model, load_model, Sequential\n",
        "from keras.preprocessing import image\n",
        "from keras.preprocessing.image import ImageDataGenerator\n",
        "from keras.utils import layer_utils, plot_model\n",
        "from keras.utils.data_utils import get_file\n",
        "from keras.applications.imagenet_utils import preprocess_input\n",
        "from keras.applications import InceptionV3\n",
        "from keras.callbacks import ModelCheckpoint, ReduceLROnPlateau\n",
        "from keras import backend as K\n",
        "from keras.initializers import glorot_uniform\n",
        "from __future__ import print_function\n",
        "import keras\n",
        "from keras import backend as k\n",
        "%matplotlib inline\n",
        "import matplotlib.pyplot as plt\n",
        "import numpy as np\n",
        "import skimage\n",
        "import six\n",
        "import scipy"
      ],
      "execution_count": 0,
      "outputs": [
        {
          "output_type": "stream",
          "text": [
            "Using TensorFlow backend.\n"
          ],
          "name": "stderr"
        }
      ]
    },
    {
      "metadata": {
        "id": "RvCJl9YDWNsF",
        "colab_type": "text"
      },
      "cell_type": "markdown",
      "source": [
        "### Load the dataset from json files"
      ]
    },
    {
      "metadata": {
        "id": "rL4OM4yUHCyf",
        "colab_type": "code",
        "colab": {}
      },
      "cell_type": "code",
      "source": [
        "def loadData(path):\n",
        "  \n",
        "  dataset=[]\n",
        "  with open('snli_1.0/snli_1.0_'+path+'.jsonl', 'r') as f:\n",
        "    dataset = f.read().split('\\n')\n",
        "    dataset.pop()\n",
        "\n",
        "  for i in range(len(dataset)):\n",
        "    dataset[i] = json.loads(dataset[i])\n",
        "\n",
        "  sent1 = []\n",
        "  sent2 = []\n",
        "  label=[]\n",
        "  \n",
        "  for i in dataset:\n",
        "    sent1.append(i['sentence1'].lower())\n",
        "    sent2.append(i['sentence2'].lower())\n",
        "   \n",
        "    m = i['gold_label']\n",
        "    if m == 'entailment':\n",
        "      label.append(0)\n",
        "    elif m == 'neutral':\n",
        "      label.append(1)\n",
        "    else:\n",
        "      label.append(2)\n",
        "  ''' \n",
        "  for i in dataset: \n",
        "    m = i['gold_label']\n",
        "    if m == 'entailment':\n",
        "      label.append(0)\n",
        "      sent1.append(i['sentence1'].lower())\n",
        "      sent2.append(i['sentence2'].lower())\n",
        "    elif m == 'contradiction':\n",
        "      label.append(1)\n",
        "      sent1.append(i['sentence1'].lower())\n",
        "      sent2.append(i['sentence2'].lower())\n",
        "  '''\n",
        "  \n",
        "  return sent1, sent2, label"
      ],
      "execution_count": 0,
      "outputs": []
    },
    {
      "metadata": {
        "id": "5vqQ0N56UIbr",
        "colab_type": "code",
        "outputId": "9549d989-8a2b-446d-8b42-fc2d6bc04aec",
        "colab": {
          "base_uri": "https://localhost:8080/",
          "height": 36
        }
      },
      "cell_type": "code",
      "source": [
        "time_t = datetime.datetime.utcnow()\n",
        "X_train_sent1, X_train_sent2, Y_train_label = loadData('train')\n",
        "X_val_sent1, X_val_sent2, Y_val_label = loadData('dev')\n",
        "X_test_sent1, X_test_sent2, Y_test_label = loadData('test')\n",
        "print(datetime.datetime.utcnow() - time_t)"
      ],
      "execution_count": 0,
      "outputs": [
        {
          "output_type": "stream",
          "text": [
            "0:00:13.348653\n"
          ],
          "name": "stdout"
        }
      ]
    },
    {
      "metadata": {
        "id": "kfV42DwJWTEu",
        "colab_type": "text"
      },
      "cell_type": "markdown",
      "source": [
        "##Tokenizer functions"
      ]
    },
    {
      "metadata": {
        "id": "oiTTwmlPWUch",
        "colab_type": "code",
        "colab": {}
      },
      "cell_type": "code",
      "source": [
        "from sklearn.feature_extraction.text import TfidfVectorizer\n",
        "from nltk.stem.porter import PorterStemmer\n",
        "from nltk.stem import WordNetLemmatizer\n",
        "from nltk.corpus import stopwords\n",
        "from nltk.tag import pos_tag\n",
        "from sklearn.metrics.pairwise import cosine_similarity\n",
        "import unicodedata\n",
        "\n",
        "nltk.download('punkt')\n",
        "nltk.download('wordnet')\n",
        "nltk.download('stopwords')\n",
        "nltk.download('averaged_perceptron_tagger')\n",
        "\n",
        "stop = list(set(stopwords.words('english')))\n",
        "stop.remove('nor')\n",
        "stop.remove('not')\n",
        "stop.remove('no')\n",
        "stemmer = PorterStemmer()\n",
        "lemmatizer = WordNetLemmatizer()\n",
        "\n",
        "def strip_accents(text):\n",
        "    try:\n",
        "        text = unicode(text, 'utf-8')\n",
        "    except (TypeError, NameError): # unicode is a default on python 3 \n",
        "        pass\n",
        "    text = unicodedata.normalize('NFD', text)\n",
        "    text = text.encode('ascii', 'ignore')\n",
        "    text = text.decode(\"utf-8\")\n",
        "    return str(text)\n",
        "  \n",
        "def stem_tokens(tokens, stemmer):\n",
        "    stemmed = []\n",
        "    for item in tokens:\n",
        "      stemmed.append(stemmer.stem(item))\n",
        "    return stemmed\n",
        "def lemmatize_tokens(tokens, lemmatizer):\n",
        "    lemmatized=[]\n",
        "    for word, tag in pos_tag(tokens):\n",
        "      temp = '0'\n",
        "      if tag.startswith(\"NN\"):\n",
        "          temp =  lemmatizer.lemmatize(word, pos='n')\n",
        "      elif tag.startswith('VB'):\n",
        "          temp = lemmatizer.lemmatize(word, pos='v')\n",
        "      elif tag.startswith('JJ'):\n",
        "          temp = lemmatizer.lemmatize(word, pos='a')\n",
        "      else:\n",
        "          temp = word\n",
        "      lemmatized.append(temp)\n",
        "    return lemmatized\n",
        "\n",
        "def tokenize(text):\n",
        "    b = ['-lrb-', '-rrb-', '-rsb-', '-lsb-', '-lcb-', '-rcb-']\n",
        "    text = text.lower()\n",
        "    text = re.sub(\"\\'\"+'[A-Za-z]*', '', text)\n",
        "    text = strip_accents(text)\n",
        "    tokens = nltk.word_tokenize(text)\n",
        "    tokens = [token for token in tokens if token not in string.punctuation and token not in b and token not in stop and len(token)>2 and not token.isdigit()]\n",
        "    #stems = lemmatize_tokens(tokens, lemmatizer)\n",
        "    return tokens\n",
        "  \n",
        "def preprocess(listt):\n",
        "    new_list=[]\n",
        "    for i in listt:\n",
        "      z = tokenize(i)\n",
        "      #z = ' '.join(x for x in z)\n",
        "      new_list.append(z)\n",
        "    print('Preprocess done.')\n",
        "    return new_list \n",
        "  \n",
        "def pad_sentence(listt, length):\n",
        "    new_list = []\n",
        "    max = 0\n",
        "    for string in listt:\n",
        "      if len(string)>max:\n",
        "        max = len(string)\n",
        "     \n",
        "    if length < max:\n",
        "      max = length\n",
        "    print(\"Maximum sequence length: \"+str(max))\n",
        "    for string in listt:\n",
        "      z = max - len(string)\n",
        "      if z > 0:\n",
        "        temp = string + ['<PAD/>']*z\n",
        "      else:\n",
        "        temp = string[0:max]\n",
        "      new_list.append(temp)\n",
        "    return new_list\n",
        "  \n",
        "def build_vocab(sentences):\n",
        "    word_counts = Counter(itertools.chain(*sentences))\n",
        "    vocabulary_inv = [x[0] for x in word_counts.most_common()]\n",
        "    vocabulary = {x: i for i, x in enumerate(vocabulary_inv)}\n",
        "    print(\"Length of vocabulary: \" + str(len(vocabulary)))\n",
        "    return [vocabulary, vocabulary_inv]  \n",
        "  "
      ],
      "execution_count": 0,
      "outputs": []
    },
    {
      "metadata": {
        "id": "QJvvVjJbIMC8",
        "colab_type": "code",
        "outputId": "e0ad53a3-31c9-4c0d-de2e-685191262460",
        "colab": {
          "base_uri": "https://localhost:8080/",
          "height": 56
        }
      },
      "cell_type": "code",
      "source": [
        "with open('liar_train_raw.tsv', 'r') as f:\n",
        "  "
      ],
      "execution_count": 0,
      "outputs": [
        {
          "output_type": "stream",
          "text": [
            "['theirs', 'has', 'at', 'shan', 'themselves', 'their', 'whom', \"aren't\", 'on', 'haven', 'are', 'against', 'further', 'will', 'each', 'you', 'hasn', 'ain', 'out', 'couldn', 't', 'that', 'needn', 'all', 'off', 'wouldn', 'had', 'your', 'too', 'just', 'do', 'aren', 'was', 'should', \"haven't\", 'have', 'doesn', 'wasn', 'his', 'ma', 'a', 'about', 'weren', 'my', \"weren't\", 'being', 'by', \"needn't\", 'don', 'yourself', \"don't\", 'she', 'same', \"isn't\", 'this', 'in', 'be', 'more', 'to', 'who', 'only', 'after', \"mustn't\", 'below', 'how', 'until', \"wouldn't\", 'y', 'very', 'myself', \"doesn't\", 'ours', 'there', 'them', \"won't\", 're', 'few', 'been', 'here', 'than', \"hasn't\", \"she's\", 'her', \"you'll\", 'as', 'during', 'down', 'i', 'any', 'm', 'did', 'hers', 'is', 'when', \"it's\", 'again', 'we', 'shouldn', 'd', 'herself', 'our', 'me', 'under', \"wasn't\", 'so', \"didn't\", 'why', 'over', 'not', 'yours', 'yourselves', 'where', 'having', 'from', 'itself', \"shouldn't\", 'll', 'it', 'but', 'then', 's', \"couldn't\", 'both', 'of', 'if', 'through', 'into', 'those', 'which', \"hadn't\", 'ourselves', 'were', 'they', 'its', 'didn', \"you're\", 'o', 'for', 'other', 'up', \"mightn't\", 'am', 'hadn', 've', 'isn', 'or', \"shan't\", 'own', 'does', 'now', 'can', 'mustn', 'an', 'above', 'some', 'what', 'and', 'him', 'before', \"that'll\", 'because', 'won', 'with', 'these', 'while', 'most', 'mightn', 'the', \"you'd\", \"should've\", 'between', 'he', 'once', 'no', \"you've\", 'himself', 'doing', 'such']\n"
          ],
          "name": "stdout"
        }
      ]
    },
    {
      "metadata": {
        "id": "aU7iXHaJkNKA",
        "colab_type": "code",
        "colab": {}
      },
      "cell_type": "code",
      "source": [
        "def getEvidence(path):\n",
        "  claim=[]\n",
        "  support=[]\n",
        "  data=[]\n",
        "  with open(path+'_new.json', 'r') as f:\n",
        "    dataset = f.read().split('\\n')\n",
        "  dataset = json.loads(dataset[0])\n",
        "  \n",
        "  for i in dataset:\n",
        "    claim.append(i[\"claim\"])\n",
        "    support.append(i[\"support\"])\n",
        "  return [claim, support]\n",
        "\n",
        "X_train_claim, X_train_support = getEvidence('train')\n",
        "X_val_claim, X_val_support = getEvidence('val')\n",
        "X_test_claim, X_test_support = getEvidence('test')\n",
        "X_train_claim = preprocess(X_train_claim)\n",
        "X_val_claim = preprocess(X_val_claim)\n",
        "X_test_claim = preprocess(X_test_claim)\n",
        "X_train_support = preprocess(X_train_support)\n",
        "X_val_support = preprocess(X_val_support)\n",
        "X_test_support = preprocess(X_test_support)\n",
        "xx =  X_test_claim  +  X_test_support + X_train_claim + X_train_support + X_val_claim +X_val_support\n",
        "print(len(X_train_claim), len(X_val_claim), len(X_test_claim), len(X_test_support))\n",
        "print(len(xx))"
      ],
      "execution_count": 0,
      "outputs": []
    },
    {
      "metadata": {
        "id": "ohj49kkvW63M",
        "colab_type": "code",
        "colab": {}
      },
      "cell_type": "code",
      "source": [
        "time_t = datetime.datetime.utcnow()\n",
        "X_train_sent1 = preprocess(X_train_sent1) \n",
        "X_train_sent2 = preprocess(X_train_sent2) \n",
        "X_val_sent1 = preprocess(X_val_sent1) \n",
        "X_val_sent2 = preprocess(X_val_sent2) \n",
        "X_test_sent1 = preprocess(X_test_sent1) \n",
        "X_test_sent2 = preprocess(X_test_sent2) \n",
        "print(datetime.datetime.utcnow() - time_t)"
      ],
      "execution_count": 0,
      "outputs": []
    },
    {
      "metadata": {
        "id": "xwdSaCXE7m5H",
        "colab_type": "code",
        "colab": {}
      },
      "cell_type": "code",
      "source": [
        "def getWikiPage(i):\n",
        "  path = 'wiki-pages/wiki-'\n",
        "  content={}\n",
        "  with open(path+'%03d'%i+'.jsonl', 'r') as f:\n",
        "    document = f.read().split('\\n')\n",
        "    document.pop()\n",
        "    for j in range(len(document)):\n",
        "      document[j] = json.loads(document[j])\n",
        "    for j in document:\n",
        "      temp = j['lines']\n",
        "      temp = re.sub(\"\\'\"+'[A-Za-z]*', '', temp)\n",
        "      temp = temp.split('\\n')\n",
        "      temp.pop()\n",
        "      content[j['id']] = temp\n",
        "  return content"
      ],
      "execution_count": 0,
      "outputs": []
    },
    {
      "metadata": {
        "id": "xZ7zUUSqqsAC",
        "colab_type": "code",
        "colab": {}
      },
      "cell_type": "code",
      "source": [
        "time_t = datetime.datetime.utcnow()\n",
        "wiki={}\n",
        "for i in range(1, 110):\n",
        "  temp = getWikiPage(i)\n",
        "  wiki = dict(list(wiki.items()) + list(temp.items()))\n",
        "  if i % 10 == 0:\n",
        "    print(i)\n",
        "    printm()\n",
        "print('done')\n",
        "print(str(datetime.datetime.utcnow()-time_t))"
      ],
      "execution_count": 0,
      "outputs": []
    },
    {
      "metadata": {
        "id": "w5Ch_1h4m6Jr",
        "colab_type": "code",
        "colab": {}
      },
      "cell_type": "code",
      "source": [
        "def feverdata(path):\n",
        "  with open(path+'.jsonl', 'r') as f:\n",
        "    dataset = f.read().split('\\n')\n",
        "    dataset.pop()\n",
        "\n",
        "  for i in range(len(dataset)):\n",
        "    dataset[i] = json.loads(dataset[i])\n",
        "\n",
        "  claim = []\n",
        "  label=[]\n",
        "  evidence = []\n",
        "  cntt=0\n",
        "  m=0\n",
        "  print(len(dataset))\n",
        "  key = list(wiki)\n",
        "  for i in dataset:\n",
        "    temp = i['label']\n",
        "    if temp != 'NOT ENOUGH INFO':\n",
        "      \n",
        "      temp2 = i['evidence']\n",
        "      strr=''\n",
        "      for j in temp2[0]:\n",
        "        id = j[2]\n",
        "        line = j[3]\n",
        "        try:\n",
        "          temp3 =  wiki[id][line]\n",
        "          strr = strr + ' ' + temp3\n",
        "        except KeyError:\n",
        "          continue\n",
        "      if(strr!=''):\n",
        "        claim.append(i['claim'])\n",
        "        if temp == 'SUPPORTS':\n",
        "          label.append(0)\n",
        "        else:\n",
        "          label.append(2)    \n",
        "        evidence.append(strr)\n",
        "    else:\n",
        "      label.append(1)\n",
        "      m = m +1\n",
        "      claim.append(i['claim'])\n",
        "      \n",
        "      r = random.randint(1,len(wiki))\n",
        "      r = key[r]\n",
        "      while wiki[r]=='' or len(wiki[r]) == 0:\n",
        "        r = random.randint(1,len(wiki))\n",
        "        r = key[r]\n",
        "        \n",
        "      evidence.append(wiki[r][0])\n",
        "      \n",
        "      #evidence.append('null')\n",
        "    if cntt%10000==0:\n",
        "      print(str(cntt)+\"/\"+str(len(dataset)))\n",
        "    cntt += 1   \n",
        "  label = to_categorical(label)\n",
        "   \n",
        "  return claim, label, evidence\n",
        "      "
      ],
      "execution_count": 0,
      "outputs": []
    },
    {
      "metadata": {
        "id": "4ieGwkbopCp0",
        "colab_type": "code",
        "colab": {}
      },
      "cell_type": "code",
      "source": [
        "def getBestEvidence():\n",
        "  x=[]\n",
        "  y=[]\n",
        "  z=[]\n",
        "  with open('notun_test.json', 'r') as f:\n",
        "    dataset = f.read().split('\\n')\n",
        "    dataset = json.loads(dataset[0])\n",
        "    x = eval(dataset)\n",
        "  with open('notun_test(1).json', 'r') as f:\n",
        "    dataset = f.read().split('\\n')\n",
        "    dataset = json.loads(dataset[0])\n",
        "    y = eval(dataset) \n",
        "  with open('notun_test(2).json', 'r') as f:\n",
        "    dataset = f.read().split('\\n')\n",
        "    dataset = json.loads(dataset[0])\n",
        "    z = eval(dataset)\n",
        "  \n",
        "  claim = []\n",
        "  evidence = []\n",
        "  sim = []\n",
        "  id = []\n",
        "  line_no = []\n",
        "  for i in range(len(x)):\n",
        "    c = x[i]['claim']\n",
        "    e = x[i]['support']\n",
        "    s = x[i]['sim']\n",
        "    ii = x[i]['id']\n",
        "    l = x[i]['line_no']\n",
        "    if(s < y[i]['sim']):\n",
        "      c = y[i]['claim']\n",
        "      e = y[i]['support']\n",
        "      s = y[i]['sim']\n",
        "      ii = y[i]['id']\n",
        "      l = y[i]['line_no']\n",
        "    if(s < z[i]['sim']):\n",
        "      c = z[i]['claim']\n",
        "      e = z[i]['support']\n",
        "      s = z[i]['sim']\n",
        "      ii = y[i]['id']\n",
        "      l = y[i]['line_no']\n",
        "    if s < 0.7:    \n",
        "      claim.append(c)\n",
        "      evidence.append('null')\n",
        "      sim.append(s)\n",
        "      id.append(ii)\n",
        "      line_no.append(l)\n",
        "    else:\n",
        "      claim.append(c)\n",
        "      evidence.append(e)\n",
        "      sim.append(s)  \n",
        "      id.append(ii)\n",
        "      line_no.append(l)\n",
        "  print(np.percentile(X_sim, 30))\n",
        "  return claim, evidence, id, line_no\n",
        "  "
      ],
      "execution_count": 0,
      "outputs": []
    },
    {
      "metadata": {
        "id": "gb3GjyZEorbD",
        "colab_type": "code",
        "colab": {}
      },
      "cell_type": "code",
      "source": [
        "train_claimm, train_label, train_evidencee = feverdata('train')\n",
        "val_claimm, val_label, val_evidencee = feverdata('shared_task_dev')\n",
        "#test_claimm, test_evidencee, test_id, test_line_no = getBestEvidence()"
      ],
      "execution_count": 0,
      "outputs": []
    },
    {
      "metadata": {
        "id": "XvDuwDrY0iFF",
        "colab_type": "code",
        "colab": {}
      },
      "cell_type": "code",
      "source": [
        "train_claim = preprocess(train_claimm)\n",
        "train_evidence = preprocess(train_evidencee)\n",
        "val_claim = preprocess(val_claimm)\n",
        "val_evidence = preprocess(val_evidencee)\n",
        "#test_claim = preprocess(test_claimm)\n",
        "#test_evidence = preprocess(test_evidencee)"
      ],
      "execution_count": 0,
      "outputs": []
    },
    {
      "metadata": {
        "id": "Odj6Ncd5v8QY",
        "colab_type": "code",
        "colab": {}
      },
      "cell_type": "code",
      "source": [
        "time_t = datetime.datetime.utcnow()\n",
        "X_total = train_claim+train_evidence+val_claim+val_evidence\n",
        "X_total = pad_sentence(X_total, 100) \n",
        "vocabulary, vocabulary_inv = build_vocab(X_total)\n",
        "print(datetime.datetime.utcnow() - time_t)"
      ],
      "execution_count": 0,
      "outputs": []
    },
    {
      "metadata": {
        "id": "i1K15gab1Rgu",
        "colab_type": "code",
        "colab": {}
      },
      "cell_type": "code",
      "source": [
        "xx = val_claim+val_evidence+train_claim+train_evidence"
      ],
      "execution_count": 0,
      "outputs": []
    },
    {
      "metadata": {
        "id": "2xUU4LaBXPbZ",
        "colab_type": "code",
        "outputId": "75915733-9137-47d9-9d34-607f0b036918",
        "colab": {
          "base_uri": "https://localhost:8080/",
          "height": 73
        }
      },
      "cell_type": "code",
      "source": [
        "time_t = datetime.datetime.utcnow()\n",
        "X_total = X_train_sent1 + X_train_sent2 + X_val_sent1 + X_val_sent2 + X_test_sent1 + X_test_sent2 + xx\n",
        "X_total = pad_sentence(X_total, 100) \n",
        "vocabulary, vocabulary_inv = build_vocab(X_total)\n",
        "print(datetime.datetime.utcnow() - time_t)"
      ],
      "execution_count": 0,
      "outputs": [
        {
          "output_type": "stream",
          "text": [
            "Maximum sequence length: 56\n",
            "Length of vocabulary: 49197\n",
            "0:00:12.368749\n"
          ],
          "name": "stdout"
        }
      ]
    },
    {
      "metadata": {
        "id": "T0wKjOaNWYOb",
        "colab_type": "text"
      },
      "cell_type": "markdown",
      "source": [
        "###Loading GloVe and ELMo models"
      ]
    },
    {
      "metadata": {
        "id": "lMFK5jWuYOqs",
        "colab_type": "code",
        "colab": {}
      },
      "cell_type": "code",
      "source": [
        "from gensim.scripts.glove2word2vec import glove2word2vec\n",
        "from gensim.models.keyedvectors import KeyedVectors\n",
        "\n",
        "glove2word2vec(glove_input_file=\"glove.6B.300d.txt\", word2vec_output_file=\"gensim_glove_vectors.txt\")\n",
        "\n",
        "def getEmbedding(vocabulary, embedding_dim=300):\n",
        "  word_vectors = KeyedVectors.load_word2vec_format(\"gensim_glove_vectors.txt\", binary=False)\n",
        "  vocabulary_size = len(vocabulary) + 1\n",
        "  print(\"Vocabulary size: \"+str(vocabulary_size))\n",
        "  embedding_matrix = np.zeros((vocabulary_size, embedding_dim))\n",
        "  for word, i in vocabulary.items():\n",
        "      try:\n",
        "          embedding_vector = word_vectors[word]\n",
        "          embedding_matrix[i] = embedding_vector\n",
        "      except KeyError:\n",
        "          embedding_matrix[i]=np.random.normal(0,np.sqrt(0.25),embedding_dim)\n",
        "\n",
        "  del(word_vectors)\n",
        "  return embedding_matrix, vocabulary_size\n",
        "\n",
        "\n",
        "def pretrained_word2vec(word_index, embedding_dim=300):\n",
        "  \n",
        "  word_vectors = KeyedVectors.load_word2vec_format('GoogleNews-vectors-negative300.bin', binary=True)\n",
        "  vocabulary_size=(len(word_index)+1)\n",
        "  print(\"Vocabulary size: \"+str(vocabulary_size))\n",
        "  embedding_matrix = np.zeros((vocabulary_size, embedding_dim))\n",
        "  for word, i in word_index.items():\n",
        "      try:\n",
        "          embedding_vector = word_vectors[word]\n",
        "          embedding_matrix[i] = embedding_vector\n",
        "      except KeyError:\n",
        "          embedding_matrix[i]=np.random.normal(0,np.sqrt(0.25),embedding_dim)\n",
        "\n",
        "  del(word_vectors)\n",
        "  return embedding_matrix, vocabulary_size\n",
        "  "
      ],
      "execution_count": 0,
      "outputs": []
    },
    {
      "metadata": {
        "id": "i3RaEORRftkV",
        "colab_type": "code",
        "colab": {}
      },
      "cell_type": "code",
      "source": [
        "from allennlp.modules.elmo import Elmo, batch_to_ids\n",
        "from allennlp.commands.elmo import ElmoEmbedder\n",
        "\n",
        "options_file = \"https://s3-us-west-2.amazonaws.com/allennlp/models/elmo/2x1024_128_2048cnn_1xhighway/elmo_2x1024_128_2048cnn_1xhighway_options.json\"\n",
        "weight_file = \"https://s3-us-west-2.amazonaws.com/allennlp/models/elmo/2x1024_128_2048cnn_1xhighway/elmo_2x1024_128_2048cnn_1xhighway_weights.hdf5\"\n",
        "\n",
        "elmo = Elmo(options_file, weight_file, 1, dropout=0)"
      ],
      "execution_count": 0,
      "outputs": []
    },
    {
      "metadata": {
        "id": "m8jUnu8SKUI3",
        "colab_type": "code",
        "colab": {}
      },
      "cell_type": "code",
      "source": [
        "import csv\n",
        "\n",
        "def checkLabel(label):\n",
        "  if label == 'pants-fire':\n",
        "    return 0\n",
        "  elif label == 'false':\n",
        "    return 1\n",
        "  elif label == 'barely-true':\n",
        "    return 2\n",
        "  elif label == 'half-true':\n",
        "    return 3\n",
        "  elif label == 'mostly-true':\n",
        "    return 4\n",
        "  else:\n",
        "    return 5\n",
        "\n",
        "def getLiarData(path):  \n",
        "  dic={}\n",
        "  label=[]\n",
        "  claim=[]\n",
        "  speaker=[]\n",
        "  job=[]\n",
        "  party=[]\n",
        "  evidence=[]\n",
        "  claim_dic={}\n",
        "  with open('liar_final_'+path+'.json', 'r') as f:\n",
        "    dataset = f.read().split('\\n')\n",
        "    dataset = json.loads(dataset[0])\n",
        "\n",
        "    for i in dataset:\n",
        "      claim_dic[i[\"claim\"]] = i[\"evidence\"]\n",
        "      \n",
        "  with open('liar_'+path+'_raw.tsv') as tsvfile:\n",
        "    reader = csv.reader(tsvfile, delimiter='\\t')\n",
        "    for row in reader:\n",
        "      if len(row) < 14 or row[2] not in list(claim_dic.keys()):\n",
        "        continue\n",
        "      label.append(checkLabel(row[1]))\n",
        "      claim.append((row[2]))  \n",
        "      speaker.append(row[4])\n",
        "      job.append(row[5])\n",
        "      party.append(row[7])\n",
        "      evidence.append(claim_dic[row[2]])\n",
        "      \n",
        "    label = to_categorical(label) \n",
        "    dic['label'] = label\n",
        "    dic['claim'] = preprocess(claim)\n",
        "    dic['speaker'] = speaker\n",
        "    dic['job'] = job\n",
        "    dic['party'] = party\n",
        "    dic['evidence'] = preprocess(evidence)\n",
        "    return dic"
      ],
      "execution_count": 0,
      "outputs": []
    },
    {
      "metadata": {
        "id": "SGCZpVF0tiLy",
        "colab_type": "code",
        "outputId": "3d190a23-e54b-4d4c-dd5f-3ae25c1c4cfb",
        "colab": {
          "base_uri": "https://localhost:8080/",
          "height": 54
        }
      },
      "cell_type": "code",
      "source": [
        "f = [['g','h','i'],['g'],['o'],['t','y']]\n",
        "character_ids = batch_to_ids(f)\n",
        "print('ashse')\n",
        "embeddings = elmo(character_ids)\n",
        "X_total_claim = embeddings['elmo_representations'][0].detach().numpy()\n",
        "print(X_total_claim.shape)"
      ],
      "execution_count": 0,
      "outputs": [
        {
          "output_type": "stream",
          "text": [
            "ashse\n",
            "(4, 3, 256)\n"
          ],
          "name": "stdout"
        }
      ]
    },
    {
      "metadata": {
        "id": "EAFc-x4WMhAG",
        "colab_type": "code",
        "colab": {}
      },
      "cell_type": "code",
      "source": [
        "train = getLiarData('train')\n",
        "valid = getLiarData('valid')\n",
        "test = getLiarData('test')\n",
        "\n",
        "X_total = train['claim'] + train['evidence'] + valid['claim'] + valid['evidence'] + test['claim'] + test['evidence']\n",
        "X_total = pad_sentence(X_total,100)\n",
        "vocabulary, vocabulary_inv = build_vocab(X_total)\n",
        "\n",
        "train_len1 = len(train['claim'])\n",
        "train_len2 = len(train['evidence'])\n",
        "val_len1 = len(valid['claim']) \n",
        "val_len2 = len(valid['evidence'])\n",
        "test_len1 = len(test['claim']) \n",
        "test_len2 = len(test['evidence'])\n",
        "\n",
        "embedding_matrix, vocabulary_size = getEmbedding(vocabulary, 300)\n",
        "X_total = np.array([[vocabulary[word] for word in sentence] for sentence in X_total])\n",
        "\n",
        "X_train1 = X_total[0:train_len1, :]\n",
        "X_train2 = X_total[train_len1 : train_len1+train_len2, :]\n",
        "X_train = np.concatenate((X_train1, X_train2), axis=1)\n",
        "print(X_train1.shape)\n",
        "print(X_train.shape)\n",
        "X_val1 = X_total[train_len1+train_len2 : train_len1+train_len2+val_len1, :]\n",
        "X_val2 = X_total[train_len1+train_len2+val_len1 : train_len1+train_len2+val_len1+val_len2, :]\n",
        "X_val = np.concatenate((X_val1, X_val2), axis=1)\n",
        "print(X_val1.shape)\n",
        "print(X_val.shape)\n",
        "X_test1 = X_total[train_len1+train_len2+val_len1+val_len2 : train_len1+train_len2+val_len1+val_len2+test_len1, :]\n",
        "X_test2 = X_total[train_len1+train_len2+val_len1+val_len2+test_len1:, :]\n",
        "X_test = np.concatenate((X_test1, X_test2), axis=1)\n",
        "print(X_test1.shape)\n",
        "print(X_test.shape)\n",
        "Y_train = (train['label'])\n",
        "print(Y_train.shape)\n",
        "Y_val = (valid['label'])\n",
        "print(Y_val.shape)\n",
        "Y_test = (test['label'])\n",
        "print(Y_test.shape)"
      ],
      "execution_count": 0,
      "outputs": []
    },
    {
      "metadata": {
        "id": "IudeHp6JpJh9",
        "colab_type": "code",
        "colab": {}
      },
      "cell_type": "code",
      "source": [
        "train = getLiarData('train')\n",
        "valid = getLiarData('valid')\n",
        "test = getLiarData('test')\n",
        "\n",
        "X_total = train['claim'] + train['evidence'] + valid['claim'] + valid['evidence'] + test['claim'] + test['evidence']\n",
        "X_total = pad_sentence(X_total,100)\n",
        "#vocabulary, vocabulary_inv = build_vocab(X_total)\n",
        "\n",
        "train_len1 = len(train['claim'])\n",
        "train_len2 = len(train['evidence'])\n",
        "val_len1 = len(valid['claim']) \n",
        "val_len2 = len(valid['evidence'])\n",
        "test_len1 = len(test['claim']) \n",
        "test_len2 = len(test['evidence'])\n",
        "\n",
        "#embedding_matrix, vocabulary_size = getEmbedding(vocabulary, 300)\n",
        "#X_total = np.array([[vocabulary[word] for word in sentence] for sentence in X_total])\n",
        "X_temp=0\n",
        "for i in range(0,100):\n",
        "  start = i * int(len(X_total)/100)\n",
        "  end = start + int(len(X_total)/100)\n",
        "  if i == 99:\n",
        "    end = len(X_total)\n",
        "  character_ids = batch_to_ids(X_total[start:end])\n",
        "  embeddings = elmo(character_ids)\n",
        "  temp = np.array(embeddings['elmo_representations'][0].detach().numpy())\n",
        "  if i == 0:\n",
        "    X_temp = np.array(temp)\n",
        "  else:\n",
        "    X_temp = np.concatenate((X_temp, temp), axis=0)\n",
        "  if i % 10 == 0:\n",
        "    print('Done: ', i+1, ', shape: ', X_temp.shape)\n",
        "\n",
        "X_total = X_temp\n",
        "X_train1 = X_total[0:train_len1, :]\n",
        "X_train2 = X_total[train_len1 : train_len1+train_len2, :]\n",
        "X_train = np.concatenate((X_train1, X_train2), axis=1)\n",
        "print(X_train1.shape)\n",
        "print(X_train.shape)\n",
        "X_val1 = X_total[train_len1+train_len2 : train_len1+train_len2+val_len1, :]\n",
        "X_val2 = X_total[train_len1+train_len2+val_len1 : train_len1+train_len2+val_len1+val_len2, :]\n",
        "X_val = np.concatenate((X_val1, X_val2), axis=1)\n",
        "print(X_val1.shape)\n",
        "print(X_val.shape)\n",
        "X_test1 = X_total[train_len1+train_len2+val_len1+val_len2 : train_len1+train_len2+val_len1+val_len2+test_len1, :]\n",
        "X_test2 = X_total[train_len1+train_len2+val_len1+val_len2+test_len1:, :]\n",
        "X_test = np.concatenate((X_test1, X_test2), axis=1)\n",
        "print(X_test1.shape)\n",
        "print(X_test.shape)\n",
        "Y_train = (train['label'])\n",
        "print(Y_train.shape)\n",
        "Y_val = (valid['label'])\n",
        "print(Y_val.shape)\n",
        "Y_test = (test['label'])\n",
        "print(Y_test.shape)"
      ],
      "execution_count": 0,
      "outputs": []
    },
    {
      "metadata": {
        "id": "oMgONBsEh9DG",
        "colab_type": "code",
        "colab": {}
      },
      "cell_type": "code",
      "source": [
        "del character_ids\n",
        "del embeddings\n",
        "del temp\n",
        "def get_profile_Embedding(vocabulary, embedding_dim=256):\n",
        "  word_vectors = KeyedVectors.load_word2vec_format(\"gensim_glove_vectors.txt\", binary=False)\n",
        "  vocabulary_size = len(vocabulary) + 1\n",
        "  print(\"Vocabulary size: \"+str(vocabulary_size))\n",
        "  embedding_matrix = np.zeros((vocabulary_size, embedding_dim))\n",
        "  for word, i in vocabulary.items():\n",
        "      embedding_matrix[i]=np.random.normal(0,np.sqrt(0.25),embedding_dim)\n",
        "\n",
        "  del(word_vectors)\n",
        "  return embedding_matrix, vocabulary_size\n",
        "\n",
        "\n",
        "train_profile=[]\n",
        "for i in range(len(train['speaker'])):\n",
        "  listt=[]\n",
        "  listt.append(train['speaker'][i])\n",
        "  listt.append(train['job'][i])\n",
        "  listt.append(train['party'][i])\n",
        "  train_profile.append(listt)\n",
        "  \n",
        "test_profile=[]\n",
        "for i in range(len(test['speaker'])):\n",
        "  listt=[]\n",
        "  listt.append(test['speaker'][i])\n",
        "  listt.append(test['job'][i])\n",
        "  listt.append(test['party'][i])\n",
        "  test_profile.append(listt)\n",
        "  \n",
        "valid_profile=[]\n",
        "for i in range(len(valid['speaker'])):\n",
        "  listt=[]\n",
        "  listt.append(valid['speaker'][i])\n",
        "  listt.append(valid['job'][i])\n",
        "  listt.append(valid['party'][i])\n",
        "  valid_profile.append(listt)\n",
        "  \n",
        "all_profiles =  train_profile + valid_profile + test_profile\n",
        "'''\n",
        "vocabulary, vocabulary_inv = build_vocab(all_profiles)\n",
        "\n",
        "profile_embedding_matrix, profile_vocabulary_size = get_profile_Embedding(vocabulary, 100)\n",
        "all_profiles = np.array([[vocabulary[word] for word in sentence] for sentence in all_profiles])\n",
        "print(all_profiles.shape)\n",
        "'''\n",
        "\n",
        "X_temp=0\n",
        "for i in range(0,10):\n",
        "  start = i * int(len(all_profiles)/10)\n",
        "  end = start + int(len(all_profiles)/10)\n",
        "  if i == 9:\n",
        "    end = len(all_profiles)\n",
        "  character_ids = batch_to_ids(all_profiles[start:end])\n",
        "  embeddings = elmo(character_ids)\n",
        "  temp = np.array(embeddings['elmo_representations'][0].detach().numpy())\n",
        "  if i == 0:\n",
        "    X_temp = np.array(temp)\n",
        "  else:\n",
        "    X_temp = np.concatenate((X_temp, temp), axis=0)\n",
        "  print('Done: ', i+1, ', shape: ', X_temp.shape)\n",
        "\n",
        "all_profiles = X_temp\n",
        "X_train = np.concatenate((X_train, np.array(all_profiles[0:len(train['speaker'])])), axis=1)\n",
        "X_valid = np.concatenate((X_val, np.array(all_profiles[len(train['speaker']):len(train['speaker'])+len(valid['speaker'])])), axis=1)\n",
        "X_test = np.concatenate((X_test, np.array(all_profiles[len(train['speaker'])+len(valid['speaker']):])),axis=1)\n",
        "print(X_train.shape)"
      ],
      "execution_count": 0,
      "outputs": []
    },
    {
      "metadata": {
        "id": "5JnRBnOiwXlK",
        "colab_type": "code",
        "outputId": "4836231a-2e7f-448e-8d48-b2f944f0f26a",
        "colab": {
          "base_uri": "https://localhost:8080/",
          "height": 36
        }
      },
      "cell_type": "code",
      "source": [
        "del wiki\n",
        "train_len1 = len(train_claim)\n",
        "train_len2 = len(train_evidence)\n",
        "val_len1 = len(val_claim) \n",
        "val_len2 = len(val_evidence)\n",
        "#test_len1 = len(test_claim) \n",
        "#test_len2 = len(test_evidence)\n",
        "\n",
        "embedding_matrix, vocabulary_size = getEmbedding(vocabulary, 300)\n",
        "\n",
        "X_total = np.array([[vocabulary[word] for word in sentence] for sentence in X_total])\n",
        "X_train1 = X_total[0:train_len1, :]\n",
        "X_train2 = X_total[train_len1 : train_len1+train_len2, :]\n",
        "X_train = np.concatenate((X_train1, X_train2), axis=1)\n",
        "print(X_train1.shape)\n",
        "print(X_train.shape)\n",
        "del X_train1\n",
        "del X_train2\n",
        "X_val1 = X_total[train_len1+train_len2 : train_len1+train_len2+val_len1, :]\n",
        "X_val2 = X_total[train_len1+train_len2+val_len1 : train_len1+train_len2+val_len1+val_len2, :]\n",
        "X_val = np.concatenate((X_val1, X_val2), axis=1)\n",
        "print(X_val1.shape)\n",
        "print(X_val.shape)\n",
        "del X_val1\n",
        "del X_val2\n",
        "'''\n",
        "X_test1 = X_total[train_len1+train_len2+val_len1+val_len2 : train_len1+train_len2+val_len1+val_len2+test_len1, :]\n",
        "X_test2 = X_total[train_len1+train_len2+val_len1+val_len2+test_len1:, :]\n",
        "X_test = np.concatenate((X_test1, X_test2), axis=1)\n",
        "print(X_test1.shape)\n",
        "print(X_test.shape)\n",
        "del X_test1\n",
        "del X_test2\n",
        "'''\n",
        "Y_train = train_label\n",
        "print(Y_train.shape)\n",
        "Y_val = val_label\n",
        "print(Y_val.shape)\n",
        "\n"
      ],
      "execution_count": 0,
      "outputs": [
        {
          "output_type": "stream",
          "text": [
            "(10230, 203)\n"
          ],
          "name": "stdout"
        }
      ]
    },
    {
      "metadata": {
        "id": "rcW4VxsEwy33",
        "colab_type": "code",
        "outputId": "448d2328-2371-4018-cc83-76869d66ec07",
        "colab": {
          "base_uri": "https://localhost:8080/",
          "height": 54
        }
      },
      "cell_type": "code",
      "source": [
        "Y_train = train_label\n",
        "print(len(train_claimm))\n",
        "Y_val = val_label\n",
        "print(Y_val.shape)\n"
      ],
      "execution_count": 0,
      "outputs": [
        {
          "output_type": "stream",
          "text": [
            "109091\n",
            "(19891, 3)\n"
          ],
          "name": "stdout"
        }
      ]
    },
    {
      "metadata": {
        "id": "VxcoG3QycEMi",
        "colab_type": "code",
        "outputId": "e2d71403-fba4-47b5-ca5f-d911ea2e3d8d",
        "colab": {
          "base_uri": "https://localhost:8080/",
          "height": 204
        }
      },
      "cell_type": "code",
      "source": [
        "train_len1 = len(X_train_sent1)\n",
        "train_len2 = len(X_train_sent2)\n",
        "val_len1 = len(X_val_sent1) \n",
        "val_len2 = len(X_val_sent2)\n",
        "test_len1 = len(X_test_sent1) \n",
        "test_len2 = len(X_test_sent2)\n",
        "snli = train_len1+train_len2+val_len1+val_len2+test_len1+test_len2\n",
        "xx_len = len(xx)\n",
        "\n",
        "embedding_matrix, vocabulary_size = getEmbedding(vocabulary)\n",
        "\n",
        "X_total = np.array([[vocabulary[word] for word in sentence] for sentence in X_total])\n",
        "X_train1 = X_total[0:train_len1, :]\n",
        "X_train2 = X_total[train_len1 : train_len1+train_len2, :]\n",
        "X_train = np.concatenate((X_train1, X_train2), axis=1)\n",
        "X_train_0 = np.concatenate((X_train1,X_train2), axis=0)\n",
        "print(X_train1.shape)\n",
        "print(X_train.shape)\n",
        "X_val1 = X_total[train_len1+train_len2 : train_len1+train_len2+val_len1, :]\n",
        "X_val2 = X_total[train_len1+train_len2+val_len1 : train_len1+train_len2+val_len1+val_len2, :]\n",
        "X_val = np.concatenate((X_val1, X_val2), axis=1)\n",
        "print(X_val1.shape)\n",
        "print(X_val.shape)\n",
        "X_test1 = X_total[train_len1+train_len2+val_len1+val_len2 : train_len1+train_len2+val_len1+val_len2+test_len1, :]\n",
        "X_test2 = X_total[train_len1+train_len2+val_len1+val_len2+test_len1:train_len1+train_len2+val_len1+val_len2+test_len1+test_len2, :]\n",
        "X_test = np.concatenate((X_test1, X_test2), axis=1)\n",
        "print(X_test1.shape)\n",
        "print(X_test.shape)\n",
        "xx1 = X_total[snli:snli+len(val_claim), :]\n",
        "xx2 = X_total[snli+len(val_claim):snli+len(val_claim)+len(val_evidence), :]\n",
        "xx = np.concatenate((xx1,xx2),axis=1)\n",
        "Y_train = to_categorical(np.array(Y_train_label))\n",
        "print(Y_train.shape)\n",
        "Y_val = to_categorical(np.array(Y_val_label))\n",
        "print(Y_val.shape)\n",
        "Y_test = to_categorical(np.array(Y_test_label))\n",
        "print(Y_test.shape)"
      ],
      "execution_count": 0,
      "outputs": [
        {
          "output_type": "stream",
          "text": [
            "Vocabulary size: 49198\n",
            "(550152, 56)\n",
            "(550152, 112)\n",
            "(10000, 56)\n",
            "(10000, 112)\n",
            "(10000, 56)\n",
            "(10000, 112)\n",
            "(550152, 3)\n",
            "(10000, 3)\n",
            "(10000, 3)\n"
          ],
          "name": "stdout"
        }
      ]
    },
    {
      "metadata": {
        "id": "u9Z5U7tUOJfP",
        "colab_type": "code",
        "outputId": "93333b55-0ef2-4eb6-cb90-5bb8adb95c98",
        "colab": {
          "base_uri": "https://localhost:8080/",
          "height": 36
        }
      },
      "cell_type": "code",
      "source": [
        "xx1 = X_total[snli+len(val_claim)+len(val_evidence):snli+len(val_claim)+len(val_evidence)+len(train_claim), :]\n",
        "xx2 = X_total[snli+len(val_claim)+len(val_evidence)+len(train_claim):, :]\n",
        "zz = np.concatenate((xx1,xx2),axis=1)\n",
        "print(zz.shape)"
      ],
      "execution_count": 0,
      "outputs": [
        {
          "output_type": "stream",
          "text": [
            "(144730, 112)\n"
          ],
          "name": "stdout"
        }
      ]
    },
    {
      "metadata": {
        "id": "QkrKxvwPc1oT",
        "colab_type": "code",
        "colab": {}
      },
      "cell_type": "code",
      "source": [
        "X_train_0 = np.concatenate((X_train1,X_train2), axis=0)"
      ],
      "execution_count": 0,
      "outputs": []
    },
    {
      "metadata": {
        "id": "XqTERixFS-7b",
        "colab_type": "code",
        "outputId": "2c38438c-85f4-4ce0-a9d3-87967d146a03",
        "colab": {
          "base_uri": "https://localhost:8080/",
          "height": 36
        }
      },
      "cell_type": "code",
      "source": [
        ""
      ],
      "execution_count": 0,
      "outputs": [
        {
          "output_type": "stream",
          "text": [
            "Vocabulary size: 4688\n"
          ],
          "name": "stdout"
        }
      ]
    },
    {
      "metadata": {
        "id": "bWSwKTekdfx_",
        "colab_type": "code",
        "colab": {}
      },
      "cell_type": "code",
      "source": [
        "X_train = train['claim'] + train['speaker'] + train['job'] + train['party']\n",
        "X_test = test['claim'] + test['speaker'] + test['job'] + test['party']\n",
        "X_val = valid['claim'] + valid['speaker'] + valid['job'] + valid['party']"
      ],
      "execution_count": 0,
      "outputs": []
    },
    {
      "metadata": {
        "id": "GoUE63YwWjkZ",
        "colab_type": "text"
      },
      "cell_type": "markdown",
      "source": [
        "## CNN models definition"
      ]
    },
    {
      "metadata": {
        "id": "cqjlDLcyvb2V",
        "colab_type": "code",
        "colab": {}
      },
      "cell_type": "code",
      "source": [
        "def custom_cnn():\n",
        "  \n",
        "  input = Input(shape=(X_train1.shape[1],))\n",
        "  \n",
        "  ques = Embedding(vocabulary_size, 300, weights=[embedding_matrix],name=\"embedding\", trainable=True)(input)\n",
        "  #ques = Dropout(0.2)(ques)\n",
        "  conv_blocks = []\n",
        "  for sz in [2,4,8]:\n",
        "      conv = Conv1D(filters=10,\n",
        "                     kernel_size=sz,\n",
        "                     padding=\"valid\",\n",
        "                     activation=\"relu\",\n",
        "                     strides=1)(ques)\n",
        "      conv = MaxPooling1D(pool_size=2)(conv)\n",
        "      conv = Flatten()(conv)\n",
        "      conv_blocks.append(conv)\n",
        "  ques = Concatenate()(conv_blocks)\n",
        "  ques = Dropout(0.5)(ques)\n",
        "  ques = Dense(64, activation='relu')(ques)\n",
        "  ques = Dropout(0.8)(ques)\n",
        "  output = Dense(6, activation='softmax')(ques)\n",
        "  model = Model(input, output)\n",
        "  model.compile(loss=\"categorical_crossentropy\", optimizer=\"adam\", metrics=[\"accuracy\"])\n",
        "  \n",
        "  return model\n",
        "  "
      ],
      "execution_count": 0,
      "outputs": []
    },
    {
      "metadata": {
        "id": "2XV-MFln-ax8",
        "colab_type": "code",
        "colab": {}
      },
      "cell_type": "code",
      "source": [
        "def custom_lstm():\n",
        " \n",
        "  input = Input(shape=(X_train.shape[1],))\n",
        "  \n",
        "  ques = Embedding(vocabulary_size, 300, weights=[embedding_matrix], name=\"embedding\", trainable=True)(input)\n",
        "  ques = Dropout(0.5)(ques)\n",
        "  ques = (CuDNNGRU(200, return_sequences=True))(ques)\n",
        "  ques = Dropout(0.5)(ques)\n",
        "  ques = (CuDNNGRU(200, return_sequences=False))(ques)\n",
        "  ques = Dropout(0.5)(ques)\n",
        "  \n",
        "  ques = Dense(256, activation='relu')(ques)\n",
        "  ques = Dropout(0.5)(ques)\n",
        "  output = Dense(6, activation='softmax')(ques)\n",
        "  model = Model(input, output)\n",
        "  model.compile(loss=\"categorical_crossentropy\", optimizer=\"adam\", metrics=[\"accuracy\"])\n",
        "  \n",
        "  return model\n",
        "\n",
        "  "
      ],
      "execution_count": 0,
      "outputs": []
    },
    {
      "metadata": {
        "id": "PwRIZk9WNCrG",
        "colab_type": "code",
        "colab": {}
      },
      "cell_type": "code",
      "source": [
        "from custom_attention import AttentionDecoder\n",
        "\n",
        "def custom_attention():\n",
        "  \n",
        "  input = Input(shape=(X_train.shape[1],))\n",
        "  \n",
        "  ques = Embedding(vocabulary_size, 300, weights=[embedding_matrix], name=\"embedding\", trainable=True)(input)\n",
        "  ques = Dropout(0.4)(ques)\n",
        "  ques = (CuDNNGRU(128, return_sequences=True))(ques)\n",
        "  ques = Dropout(0.3)(ques)\n",
        "  ques = AttentionDecoder(100, 200)(ques)\n",
        "  ques = Dropout(0.4)(ques)\n",
        "  #ques = Lambda(lambda x: x[:,61,:])(ques)\n",
        "  ques = Bidirectional(CuDNNGRU(100, return_sequences=False))(ques)\n",
        "  ques = Dropout(0.3)(ques)\n",
        " \n",
        "  ques = Dense(256, activation='relu')(ques)\n",
        "  ques = Dropout(0.2)(ques)\n",
        "  output = Dense(3, activation='softmax')(ques)\n",
        "  model = Model(input, output)\n",
        "  model.compile(loss=\"categorical_crossentropy\", optimizer=\"adam\", metrics=[\"accuracy\"])\n",
        "  \n",
        "  return model\n",
        "  "
      ],
      "execution_count": 0,
      "outputs": []
    },
    {
      "metadata": {
        "id": "P2NgU7pWRoJU",
        "colab_type": "code",
        "colab": {}
      },
      "cell_type": "code",
      "source": [
        "def reshape(x):\n",
        "  import tensorflow as tf\n",
        "  x = tf.reshape(x, [-1, 2860, 1])\n",
        "  return x"
      ],
      "execution_count": 0,
      "outputs": []
    },
    {
      "metadata": {
        "id": "uK_MDWWlpF6t",
        "colab_type": "code",
        "colab": {}
      },
      "cell_type": "code",
      "source": [
        "def cus():\n",
        "  input = Input(shape=(X_train1.shape[1],))\n",
        "  combined = Embedding(vocabulary_size, 300, weights=[embedding_matrix],name=\"embedding\", trainable=False)(input)\n",
        "\n",
        "  conv_blocks1 = []\n",
        "  for sz in [2,4,8]:\n",
        "      conv = Conv1D(filters=30,\n",
        "                     kernel_size=sz,\n",
        "                     padding=\"valid\",\n",
        "                     activation=\"relu\",\n",
        "                     strides=1)(combined)\n",
        "      conv = MaxPooling1D(pool_size=2)(conv)\n",
        "      #conv = Flatten()(conv)\n",
        "      conv_blocks1.append(conv)\n",
        "  combined = Concatenate(axis=1)(conv_blocks1)\n",
        "  combined = Dropout(0.6)(combined)\n",
        "  \n",
        "  conv_blocks2 = []\n",
        "  for sz in [2,4,8]:\n",
        "      conv = Conv1D(filters=20,\n",
        "                     kernel_size=sz,\n",
        "                     padding=\"valid\",\n",
        "                     activation=\"relu\",\n",
        "                     strides=1)(combined)\n",
        "      conv = AveragePooling1D(pool_size=2)(conv)\n",
        "      #conv = Flatten()(conv)\n",
        "      conv_blocks2.append(conv)\n",
        "  combined = Concatenate(axis=1)(conv_blocks2)\n",
        "  #evidence = Dropout(0.5)(evidence)\n",
        "  combined = Flatten()(combined)\n",
        "  combined = Dropout(0.6)(combined)\n",
        " \n",
        "  combined = Dense(256, activation='relu')(combined)\n",
        "  combined = Dropout(0.4)(combined)\n",
        "  output = Dense(6, activation='softmax')(combined)\n",
        "  \n",
        "  model = Model(input, output)\n",
        "  model.compile(loss=\"categorical_crossentropy\", optimizer=\"adam\", metrics=[\"accuracy\"])\n",
        "  \n",
        "  return model\n",
        "  "
      ],
      "execution_count": 0,
      "outputs": []
    },
    {
      "metadata": {
        "id": "mXsd8Q_9bBQI",
        "colab_type": "code",
        "colab": {}
      },
      "cell_type": "code",
      "source": [
        "def custom_profile():\n",
        "  input = Input(shape=(X_train.shape[1],X_train.shape[2]))\n",
        "  combined = Lambda(lambda x:x[:,0:200,:])(input)\n",
        "  profiles = Lambda(lambda x:x[:,200:,:])(input)\n",
        "  #combined = Embedding(vocabulary_size, 300, weights=[embedding_matrix],name=\"embedding\", trainable=False)(combined)\n",
        "  #profiles = Embedding(profile_vocabulary_size, 100, weights=[profile_embedding_matrix],name='profile_embedding', trainable=True)(profiles)\n",
        "  claim = Lambda(lambda x:x[:,0:100,:])(combined)\n",
        "  evidence = Lambda(lambda x:x[:,100:,:])(combined)\n",
        "  conv_blocks1 = []\n",
        "  for sz in [2,4,8]:\n",
        "      conv = Conv1D(filters=20,\n",
        "                     kernel_size=sz,\n",
        "                     padding=\"valid\",\n",
        "                     activation=\"relu\",\n",
        "                     strides=1)(claim)\n",
        "      conv = MaxPooling1D(pool_size=2)(conv)\n",
        "      #conv = Flatten()(conv)\n",
        "      conv_blocks1.append(conv)\n",
        "  claim = Concatenate(axis=1)(conv_blocks1)\n",
        "  #claim = Dropout(0.5)(claim)\n",
        "\n",
        "  conv_blocks2 = []\n",
        "  for sz in [2,4,8]:\n",
        "      conv = Conv1D(filters=20,\n",
        "                     kernel_size=sz,\n",
        "                     padding=\"valid\",\n",
        "                     activation=\"relu\",\n",
        "                     strides=1)(evidence)\n",
        "      conv = MaxPooling1D(pool_size=2)(conv)\n",
        "      #conv = Flatten()(conv)\n",
        "      conv_blocks2.append(conv)\n",
        "  evidence = Concatenate(axis=1)(conv_blocks2)\n",
        "  #evidence = Dropout(0.5)(evidence)\n",
        "\n",
        "  conv_blocks3 = []\n",
        "  for sz in [1,2,3]:\n",
        "      conv = Conv1D(filters=20,\n",
        "                     kernel_size=sz,\n",
        "                     padding=\"valid\",\n",
        "                     activation=\"relu\",\n",
        "                     strides=1)(profiles)\n",
        "      #conv = MaxPooling1D(pool_size=2)(conv)\n",
        "      #conv = Flatten()(conv)\n",
        "      conv_blocks3.append(conv)\n",
        "  profiles = Concatenate(axis=1)(conv_blocks3)\n",
        "  \n",
        "  \n",
        "  combined = Concatenate(axis=1)([claim, evidence, profiles])\n",
        "  combined = Dropout(0.6)(combined)\n",
        "  \n",
        "  conv_blocks = []\n",
        "  for sz in [1,2,5]:\n",
        "      conv = Conv1D(filters=20,\n",
        "                     kernel_size=sz,\n",
        "                     padding=\"valid\",\n",
        "                     activation=\"relu\",\n",
        "                     strides=1)(combined)\n",
        "      conv = AveragePooling1D(pool_size=2)(conv)\n",
        "      conv = Flatten()(conv)\n",
        "      conv_blocks.append(conv)\n",
        "  \n",
        "  combined = Concatenate()(conv_blocks)\n",
        "  combined = Dropout(0.6)(combined)\n",
        "  combined = Dense(256, activation='relu')(combined)\n",
        "  combined = Dropout(0.4)(combined)\n",
        "  output = Dense(6, activation='softmax')(combined)\n",
        "  \n",
        "  model = Model(input, output)\n",
        "  model.compile(loss=\"categorical_crossentropy\", optimizer=\"adam\", metrics=[\"accuracy\"])\n",
        "  \n",
        "  return model\n",
        "  "
      ],
      "execution_count": 0,
      "outputs": []
    },
    {
      "metadata": {
        "id": "fFrPUumcIk4Z",
        "colab_type": "code",
        "colab": {}
      },
      "cell_type": "code",
      "source": [
        "def custom():\n",
        "  input = Input(shape=(X_train.shape[1],))\n",
        "  combined = Embedding(vocabulary_size, 300, weights=[embedding_matrix],name=\"embedding\", trainable=False)(input)\n",
        "  claim = Lambda(lambda x:x[:,0:100,:])(combined)\n",
        "  evidence = Lambda(lambda x:x[:,100:,:])(combined)\n",
        "  conv_blocks1 = []\n",
        "  for sz in [2,4,8]:\n",
        "      conv = Conv1D(filters=20,\n",
        "                     kernel_size=sz,\n",
        "                     padding=\"valid\",\n",
        "                     activation=\"relu\",\n",
        "                     strides=1)(claim)\n",
        "      conv = MaxPooling1D(pool_size=2)(conv)\n",
        "      #conv = Flatten()(conv)\n",
        "      conv_blocks1.append(conv)\n",
        "  claim = Concatenate(axis=1)(conv_blocks1)\n",
        "  #claim = Dropout(0.5)(claim)\n",
        "\n",
        "  conv_blocks2 = []\n",
        "  for sz in [2,4,8]:\n",
        "      conv = Conv1D(filters=20,\n",
        "                     kernel_size=sz,\n",
        "                     padding=\"valid\",\n",
        "                     activation=\"relu\",\n",
        "                     strides=1)(evidence)\n",
        "      conv = MaxPooling1D(pool_size=2)(conv)\n",
        "      #conv = Flatten()(conv)\n",
        "      conv_blocks2.append(conv)\n",
        "  evidence = Concatenate(axis=1)(conv_blocks2)\n",
        "  #evidence = Dropout(0.5)(evidence)\n",
        "\n",
        "  combined = Concatenate(axis=1)([claim, evidence])\n",
        "  combined = Dropout(0.6)(combined)\n",
        "  \n",
        "  conv_blocks = []\n",
        "  for sz in [1,2,5]:\n",
        "      conv = Conv1D(filters=20,\n",
        "                     kernel_size=sz,\n",
        "                     padding=\"valid\",\n",
        "                     activation=\"relu\",\n",
        "                     strides=1)(combined)\n",
        "      conv = AveragePooling1D(pool_size=2)(conv)\n",
        "      conv = Flatten()(conv)\n",
        "      conv_blocks.append(conv)\n",
        "  \n",
        "  combined = Concatenate()(conv_blocks)\n",
        "  combined = Dropout(0.6)(combined)\n",
        "  combined = Dense(256, activation='relu')(combined)\n",
        "  combined = Dropout(0.4)(combined)\n",
        "  output = Dense(6, activation='softmax')(combined)\n",
        "  \n",
        "  model = Model(input, output)\n",
        "  model.compile(loss=\"categorical_crossentropy\", optimizer=\"adam\", metrics=[\"accuracy\"])\n",
        "  \n",
        "  return model\n",
        "  "
      ],
      "execution_count": 0,
      "outputs": []
    },
    {
      "metadata": {
        "id": "LgK-i7wpWvF1",
        "colab_type": "text"
      },
      "cell_type": "markdown",
      "source": [
        "##Training the classifier"
      ]
    },
    {
      "metadata": {
        "id": "TW3Rn0W8NEVE",
        "colab_type": "code",
        "colab": {}
      },
      "cell_type": "code",
      "source": [
        "K.tensorflow_backend.clear_session() # destroys the current graph and builds a new one\n",
        "\n",
        "model = custom_profile() \n",
        "model.summary()\n",
        "#model = load_model('model_cnn.hdf5')\n",
        "K.set_value(model.optimizer.lr,0.001) \n",
        "batch_size=64\n",
        "model_check_point = ModelCheckpoint(filepath='model_cnn.hdf5', monitor='val_acc', save_best_only=True)\n",
        "\n",
        "learning_rate_reduction = ReduceLROnPlateau(monitor='val_acc', \n",
        "                                            patience=3, \n",
        "                                            verbose=1, \n",
        "                                            factor=0.5, \n",
        "                                            min_lr=0.00001)\n",
        "\n",
        "h=model.fit(x=X_train,y=Y_train, batch_size=batch_size,\n",
        "            epochs=20,\n",
        "            #steps_per_epoch=X_train.shape[0] // batch_size,\n",
        "            verbose=1,          \n",
        "            validation_data=(X_test,Y_test),\n",
        "            shuffle=True,\n",
        "            callbacks=[learning_rate_reduction,model_check_point]\n",
        "            )\n",
        "\n",
        "from sklearn.metrics import classification_report\n",
        "def getTestScore(X_test, Y_test, model):\n",
        "  pred = model.predict(X_test)\n",
        "  Y_test = [np.argmax(a) for a in Y_test]\n",
        "  pred = [np.argmax(a) for a in pred]\n",
        "  target_names = ['pants-fire', 'false', 'barely-true', 'half-true', 'mostly-true','true']\n",
        "  print(classification_report(Y_test, pred, target_names=target_names))\n",
        "  return\n",
        "model = load_model('model_cnn.hdf5')\n",
        "getTestScore(X_test,Y_test,model)"
      ],
      "execution_count": 0,
      "outputs": []
    },
    {
      "metadata": {
        "id": "YvcOWBhGmliZ",
        "colab_type": "code",
        "colab": {}
      },
      "cell_type": "code",
      "source": [
        "def plot_confusion_matrix(cm, classes,\n",
        "                          normalize=False,\n",
        "                          title='Confusion matrix',\n",
        "                          cmap=plt.cm.Greens):\n",
        "    \"\"\"\n",
        "    This function prints and plots the confusion matrix.\n",
        "    Normalization can be applied by setting `normalize=True`.\n",
        "    \"\"\"\n",
        "    if normalize:\n",
        "        cm = cm.astype('float') / cm.sum(axis=1)[:, np.newaxis]\n",
        "        print(\"Normalized confusion matrix\")\n",
        "    else:\n",
        "        print('Confusion matrix, without normalization')\n",
        "\n",
        "    print(cm)\n",
        "\n",
        "    plt.imshow(cm, interpolation='nearest', cmap=cmap)\n",
        "    plt.title(title)\n",
        "    plt.colorbar()\n",
        "    tick_marks = np.arange(len(classes))\n",
        "    plt.xticks(tick_marks, classes, rotation=45)\n",
        "    plt.yticks(tick_marks, classes)\n",
        "\n",
        "    fmt = '.2f' if normalize else 'd'\n",
        "    thresh = cm.max() / 2.\n",
        "    for i, j in itertools.product(range(cm.shape[0]), range(cm.shape[1])):\n",
        "        plt.text(j, i, format(cm[i, j], fmt),\n",
        "                 horizontalalignment=\"center\",\n",
        "                 color=\"white\" if cm[i, j] > thresh else \"black\")\n",
        "\n",
        "    plt.ylabel('True label')\n",
        "    plt.xlabel('Predicted label')\n",
        "    plt.tight_layout()\n",
        "\n",
        "\n"
      ],
      "execution_count": 0,
      "outputs": []
    },
    {
      "metadata": {
        "id": "GjfoGxZyl9f8",
        "colab_type": "code",
        "outputId": "d42fe2c6-df9b-49ab-b411-6559edaabe83",
        "colab": {
          "base_uri": "https://localhost:8080/",
          "height": 1045
        }
      },
      "cell_type": "code",
      "source": [
        "from sklearn.metrics import confusion_matrix\n",
        "def getTestScore(X_test, Y_test, model):\n",
        "  pred = model.predict(X_test)\n",
        "  Y_test = [np.argmax(a) for a in Y_test]\n",
        "  pred = [np.argmax(a) for a in pred]\n",
        "  target_names = ['pants-fire', 'false', 'barely-true', 'half-true', 'mostly-true','true']\n",
        "  print(classification_report(Y_test, pred, target_names=target_names))\n",
        "  # Compute confusion matrix\n",
        "  cnf_matrix = confusion_matrix(Y_test, pred)\n",
        "  np.set_printoptions(precision=2)\n",
        "\n",
        "  # Plot non-normalized confusion matrix\n",
        "  plt.figure()\n",
        "  plot_confusion_matrix(cnf_matrix, classes=target_names,\n",
        "                        title='Confusion matrix, without normalization')\n",
        "\n",
        "  # Plot normalized confusion matrix\n",
        "  plt.figure()\n",
        "  plot_confusion_matrix(cnf_matrix, classes=target_names, normalize=True,\n",
        "                        title='Normalized confusion matrix')\n",
        "\n",
        "  plt.show()\n",
        "  return\n",
        "model = load_model('saved_model.hdf5')\n",
        "getTestScore(X_test,Y_test,model)"
      ],
      "execution_count": 0,
      "outputs": [
        {
          "output_type": "stream",
          "text": [
            "             precision    recall  f1-score   support\n",
            "\n",
            " pants-fire       0.44      0.18      0.26        92\n",
            "      false       0.27      0.43      0.33       249\n",
            "barely-true       0.26      0.15      0.19       212\n",
            "  half-true       0.29      0.31      0.30       265\n",
            "mostly-true       0.31      0.45      0.37       240\n",
            "       true       0.33      0.14      0.20       208\n",
            "\n",
            "avg / total       0.30      0.29      0.28      1266\n",
            "\n",
            "Confusion matrix, without normalization\n",
            "[[ 17  36  10  13  11   5]\n",
            " [  9 107  23  44  50  16]\n",
            " [  5  80  31  45  41  10]\n",
            " [  4  72  28  81  68  12]\n",
            " [  1  49  22  46 107  15]\n",
            " [  3  59   4  46  67  29]]\n",
            "Normalized confusion matrix\n",
            "[[0.18 0.39 0.11 0.14 0.12 0.05]\n",
            " [0.04 0.43 0.09 0.18 0.2  0.06]\n",
            " [0.02 0.38 0.15 0.21 0.19 0.05]\n",
            " [0.02 0.27 0.11 0.31 0.26 0.05]\n",
            " [0.   0.2  0.09 0.19 0.45 0.06]\n",
            " [0.01 0.28 0.02 0.22 0.32 0.14]]\n"
          ],
          "name": "stdout"
        },
        {
          "output_type": "display_data",
          "data": {
            "image/png": "[encoded data removed]",
            "text/plain": [
              "<matplotlib.figure.Figure at 0x7fb750adb5c0>"
            ]
          },
          "metadata": {
            "tags": []
          }
        },
        {
          "output_type": "display_data",
          "data": {
            "image/png": "[encoded data removed]",
            "text/plain": [
              "<matplotlib.figure.Figure at 0x7fb50e936e10>"
            ]
          },
          "metadata": {
            "tags": []
          }
        }
      ]
    },
    {
      "metadata": {
        "id": "CGQfS5tNpyaQ",
        "colab_type": "code",
        "colab": {}
      },
      "cell_type": "code",
      "source": [
        "  def getBestEvidence(t):\n",
        "  x=[]\n",
        "  y=[]\n",
        "  z=[]\n",
        "  with open('notun_test(3).json', 'r') as f:\n",
        "    dataset = f.read().split('\\n')\n",
        "    dataset = json.loads(dataset[0])\n",
        "    x = eval(dataset)\n",
        "  with open('notun_test1.json', 'r') as f:\n",
        "    dataset = f.read().split('\\n')\n",
        "    dataset = json.loads(dataset[0])\n",
        "    y = eval(dataset) \n",
        "  with open('notun_test2.json', 'r') as f:\n",
        "    dataset = f.read().split('\\n')\n",
        "    dataset = json.loads(dataset[0])\n",
        "    z = eval(dataset)\n",
        "  \n",
        "  claim = []\n",
        "  evidence = []\n",
        "  sim = []\n",
        "  id = []\n",
        "  line_no = []\n",
        "  for i in range(len(x)):\n",
        "    c = x[i]['claim'][t]\n",
        "    e = x[i]['support'][t]\n",
        "    s = x[i]['sim'][t]\n",
        "    ii = x[i]['id'][t]\n",
        "    l = x[i]['line_no'][t]\n",
        "    if(s < y[i]['sim'][t]):\n",
        "      c = y[i]['claim'][t]\n",
        "      e = y[i]['support'][t]\n",
        "      s = y[i]['sim'][t]\n",
        "      ii = y[i]['id'][t]\n",
        "      l = y[i]['line_no'][t]\n",
        "    if(s < z[i]['sim'][t]):\n",
        "      c = z[i]['claim'][t]\n",
        "      e = z[i]['support'][t]\n",
        "      s = z[i]['sim'][t]\n",
        "      ii = y[i]['id'][t]\n",
        "      l = y[i]['line_no'][t]\n",
        "    if s < 0.7:    \n",
        "      claim.append(c)\n",
        "      evidence.append('null')\n",
        "      sim.append(s)\n",
        "      id.append(ii)\n",
        "      line_no.append(l)\n",
        "    else:\n",
        "      claim.append(c)\n",
        "      evidence.append(e)\n",
        "      sim.append(s)  \n",
        "      id.append(ii)\n",
        "      line_no.append(l)\n",
        "  print(np.percentile(X_sim, 30))\n",
        "  return claim, evidence, id, line_no\n",
        "  "
      ],
      "execution_count": 0,
      "outputs": []
    },
    {
      "metadata": {
        "id": "8v9ZZNtmG4Th",
        "colab_type": "code",
        "colab": {}
      },
      "cell_type": "code",
      "source": [
        "with open('pred.pickle', 'wb') as f:\n",
        "    pickle.dump(pred, f)"
      ],
      "execution_count": 0,
      "outputs": []
    },
    {
      "metadata": {
        "id": "bV9pv45nzjXT",
        "colab_type": "code",
        "outputId": "e4f245aa-c83c-40a7-fa8a-cf7b419b4275",
        "colab": {
          "base_uri": "https://localhost:8080/",
          "height": 36
        }
      },
      "cell_type": "code",
      "source": [
        "with open('shared_task_test.jsonl', 'r') as f:\n",
        "  dataset = f.read().split('\\n')\n",
        "  dataset.pop()\n",
        "for i in range(len(dataset)):\n",
        "  dataset[i] = json.loads(dataset[i])\n",
        "model = load_model('model.hdf5')\n",
        "Y_test = model.predict(X_test)\n",
        "y = [np.argmax(temp) for temp in Y_test]\n",
        "print(len(test_claimm), X_test.shape[0])\n",
        "with open('predictions.jsonl', 'w') as f:\n",
        "  for i in range(len(test_claimm)):\n",
        "    dic={}\n",
        "    dic[\"id\"] = dataset[i]['id']\n",
        "    if y[i] == 0:\n",
        "      dic[\"predicted_label\"] = \"SUPPORTS\"\n",
        "    elif y[i] == 2:\n",
        "      dic[\"predicted_label\"] = \"REFUTES\"\n",
        "    else:\n",
        "      dic[\"predicted_label\"] = \"NOT ENOUGH INFO\"\n",
        "    dic[\"predicted_evidence\"] = [[test_id[i], test_line_no[i]]]\n",
        "    json.dump(dic, f)\n",
        "    f.write('\\n')\n",
        "  "
      ],
      "execution_count": 0,
      "outputs": [
        {
          "output_type": "stream",
          "text": [
            "19998 19998\n"
          ],
          "name": "stdout"
        }
      ]
    },
    {
      "metadata": {
        "id": "YVsSYak9PiwG",
        "colab_type": "code",
        "colab": {}
      },
      "cell_type": "code",
      "source": [
        "import pickle\n",
        "with open('X_test.pickle', 'wb') as f:\n",
        "    pickle.dump(X_test, f)"
      ],
      "execution_count": 0,
      "outputs": []
    },
    {
      "metadata": {
        "id": "KUU9IDhx7NnQ",
        "colab_type": "code",
        "colab": {}
      },
      "cell_type": "code",
      "source": [
        "from google.colab import auth\n",
        "auth.authenticate_user()\n",
        "from googleapiclient.discovery import build\n",
        "from googleapiclient.http import MediaFileUpload\n",
        "\n",
        "drive_service = build('drive', 'v3')\n",
        "file_metadata = {\n",
        "  'name': 'pred.pickle',\n",
        "  'mimeType': 'application/octet-stream'\n",
        "}\n",
        "media = MediaFileUpload('pred.pickle', \n",
        "                        mimetype='application/octet-stream',\n",
        "                        resumable=True)\n",
        "created = drive_service.files().create(body=file_metadata,\n",
        "                                       media_body=media,\n",
        "                                       fields='id').execute()\n",
        "print('File ID: {}'.format(created.get('id'))) "
      ],
      "execution_count": 0,
      "outputs": []
    },
    {
      "metadata": {
        "id": "7okp2iOuF0Mc",
        "colab_type": "code",
        "colab": {}
      },
      "cell_type": "code",
      "source": [
        ""
      ],
      "execution_count": 0,
      "outputs": []
    }
  ]
}